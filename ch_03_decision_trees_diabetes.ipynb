{
  "nbformat": 4,
  "nbformat_minor": 0,
  "metadata": {
    "colab": {
      "name": "ch_03_decision_trees_diabetes.ipynb",
      "provenance": [],
      "authorship_tag": "ABX9TyMEDLJjm2lmrw7S/EH71VlN",
      "include_colab_link": true
    },
    "kernelspec": {
      "name": "python3",
      "display_name": "Python 3"
    }
  },
  "cells": [
    {
      "cell_type": "markdown",
      "metadata": {
        "id": "view-in-github",
        "colab_type": "text"
      },
      "source": [
        "<a href=\"https://colab.research.google.com/github/brypergolic93/greatcoursesplus/blob/main/ch_03_decision_trees_diabetes.ipynb\" target=\"_parent\"><img src=\"https://colab.research.google.com/assets/colab-badge.svg\" alt=\"Open In Colab\"/></a>"
      ]
    },
    {
      "cell_type": "code",
      "metadata": {
        "id": "jKyKuUrUkM71"
      },
      "source": [
        "from sklearn import tree\r\n",
        "import graphviz\r\n",
        "import random\r\n",
        "import matplotlib.pyplot as plot"
      ],
      "execution_count": 1,
      "outputs": []
    },
    {
      "cell_type": "code",
      "metadata": {
        "colab": {
          "base_uri": "https://localhost:8080/"
        },
        "id": "ephzz_XYk25Q",
        "outputId": "5d6a072b-feff-4d06-d19e-8dc91554af53"
      },
      "source": [
        "!wget https://raw.githubusercontent.com/plotly/datasets/master/diabetes.csv"
      ],
      "execution_count": 2,
      "outputs": [
        {
          "output_type": "stream",
          "text": [
            "--2021-03-09 06:01:48--  https://raw.githubusercontent.com/plotly/datasets/master/diabetes.csv\n",
            "Resolving raw.githubusercontent.com (raw.githubusercontent.com)... 185.199.108.133, 185.199.109.133, 185.199.110.133, ...\n",
            "Connecting to raw.githubusercontent.com (raw.githubusercontent.com)|185.199.108.133|:443... connected.\n",
            "HTTP request sent, awaiting response... 200 OK\n",
            "Length: 23873 (23K) [text/plain]\n",
            "Saving to: ‘diabetes.csv’\n",
            "\n",
            "\rdiabetes.csv          0%[                    ]       0  --.-KB/s               \rdiabetes.csv        100%[===================>]  23.31K  --.-KB/s    in 0.002s  \n",
            "\n",
            "2021-03-09 06:01:48 (11.0 MB/s) - ‘diabetes.csv’ saved [23873/23873]\n",
            "\n"
          ],
          "name": "stdout"
        }
      ]
    },
    {
      "cell_type": "code",
      "metadata": {
        "id": "SpzzoGQZk7J8"
      },
      "source": [
        "with open(\"diabetes.csv\", \"r\") as f:\r\n",
        "    data = f.readlines()\r\n",
        "feats = data[0]\r\n",
        "feats = feats.replace('\\n','')\r\n",
        "feats = feats.split(\",\") \r\n",
        "\r\n",
        "# the last column are the labels (\"Outcomes\") so we will remove that column from the features\r\n",
        "feats = feats[0:(len(feats) - 1)]"
      ],
      "execution_count": 13,
      "outputs": []
    },
    {
      "cell_type": "code",
      "metadata": {
        "id": "s6Mxg6YXnrz7"
      },
      "source": [
        "data_update = []\r\n",
        "labels = []\r\n",
        "\r\n",
        "for i in range (1,len(data)):\r\n",
        "\r\n",
        "    line = data[i]\r\n",
        "    line = line.replace('\\n','')\r\n",
        "    csvline = line.split(\",\")\r\n",
        "\r\n",
        "    labels += [int(csvline[len(csvline) - 1])]\r\n",
        "    csvline = [float(csvline[i]) for i in range(len(csvline)-1)]\r\n",
        "    data_update += [csvline]"
      ],
      "execution_count": 20,
      "outputs": []
    },
    {
      "cell_type": "code",
      "metadata": {
        "colab": {
          "base_uri": "https://localhost:8080/"
        },
        "id": "F_rrKxaYpkzC",
        "outputId": "7675c747-bac6-48fe-947a-beb01c058189"
      },
      "source": [
        ""
      ],
      "execution_count": 9,
      "outputs": [
        {
          "output_type": "stream",
          "text": [
            "[]\n"
          ],
          "name": "stdout"
        }
      ]
    },
    {
      "cell_type": "code",
      "metadata": {
        "id": "RyPt-FDbptWX"
      },
      "source": [
        ""
      ],
      "execution_count": null,
      "outputs": []
    }
  ]
}